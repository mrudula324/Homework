{
 "cells": [
  {
   "cell_type": "markdown",
   "metadata": {},
   "source": [
    "# Week 3 In-Class: Loops, Functions, and Classes\n",
    "\n",
    "In this notebook, you'll get some practice with the material you've been reading about, practicing, and discussing in class. Please don't change anything in the cells that say \"Don't change anything in this cell.\" Otherwise, fill in the cells with code to complete the assignments. Good luck!"
   ]
  },
  {
   "cell_type": "markdown",
   "metadata": {},
   "source": [
    "## Loops\n",
    "Let's practice loops. The first block of code is going to create a list of numbers from 1 to 30. You'll use that list in the first two problems."
   ]
  },
  {
   "cell_type": "code",
   "execution_count": 2,
   "metadata": {
    "collapsed": true
   },
   "outputs": [],
   "source": [
    "# Don't change anything in this cell\n",
    "practice_list = list(range(1, 31))"
   ]
  },
  {
   "cell_type": "code",
   "execution_count": 5,
   "metadata": {
    "collapsed": false
   },
   "outputs": [
    {
     "name": "stdout",
     "output_type": "stream",
     "text": [
      "1 is 'Odd':\n",
      "2 is 'Even':\n",
      "3 is 'WEIRD':\n",
      "4 is 'Even':\n",
      "5 is 'Odd':\n",
      "6 is 'Even':\n",
      "7 is 'Odd':\n",
      "8 is 'Even':\n",
      "9 is 'WEIRD':\n",
      "10 is 'Even':\n",
      "11 is 'Odd':\n",
      "12 is 'Even':\n",
      "13 is 'Odd':\n",
      "14 is 'Even':\n",
      "15 is 'WEIRD':\n",
      "16 is 'Even':\n",
      "17 is 'Odd':\n",
      "18 is 'Even':\n",
      "19 is 'Odd':\n",
      "20 is 'Even':\n",
      "21 is 'WEIRD':\n",
      "22 is 'Even':\n",
      "23 is 'Odd':\n",
      "24 is 'Even':\n",
      "25 is 'Odd':\n",
      "26 is 'Even':\n",
      "27 is 'WEIRD':\n",
      "28 is 'Even':\n",
      "29 is 'Odd':\n",
      "30 is 'Even':\n"
     ]
    }
   ],
   "source": [
    "# Problem 1\n",
    "# For every [number] in practice_list, do the following:\n",
    "# If the number is even, print '[number] is EVEN'\n",
    "# If the number is odd and not divisible by three, print '[number] is ODD'\n",
    "# If the number is odd and divisible by three, print '[number] is WEIRD'\n",
    "for i in practice_list:\n",
    "    if i%2==0:\n",
    "        print(\"{} is 'Even':\".format(i))\n",
    "    else:\n",
    "        if i%3!=0:\n",
    "            print(\"{} is 'Odd':\".format(i))   \n",
    "        else:\n",
    "            print(\"{} is 'WEIRD':\".format(i))"
   ]
  },
  {
   "cell_type": "markdown",
   "metadata": {},
   "source": [
    "Hoopefully you had some fun playing with loops and if statements. In the next problem, you'll need to use a loop to count how many numbers are odd and how many are even in the list.\n",
    "\n",
    "For example, if the list was [1, 2, 3, 4, 5], you'd print:\n",
    "<br>Number of even numbers : 2\n",
    "<br>Number of odd numbers : 3\n",
    "\n",
    "Hint: you'll have to think about keeping a count of the odds and evens as you go through the loop, and print them out when you're done."
   ]
  },
  {
   "cell_type": "code",
   "execution_count": 45,
   "metadata": {
    "collapsed": false
   },
   "outputs": [
    {
     "name": "stdout",
     "output_type": "stream",
     "text": [
      "[2, 4, 6, 8, 10, 12, 14, 16, 18, 20, 22, 24, 26, 28, 30]\n",
      "[1, 3, 5, 7, 9, 11, 13, 15, 17, 19, 21, 23, 25, 27, 29, 31]\n",
      "Following will display number of even number correspoinding to its counter value:\n",
      "1 2\n",
      "2 4\n",
      "3 6\n",
      "4 8\n",
      "5 10\n",
      "6 12\n",
      "7 14\n",
      "8 16\n",
      "9 18\n",
      "10 20\n",
      "11 22\n",
      "12 24\n",
      "13 26\n",
      "14 28\n",
      "15 30\n",
      "Following will display number of Odd number correspoinding to its counter value:\n",
      "1 1\n",
      "2 3\n",
      "3 5\n",
      "4 7\n",
      "5 9\n",
      "6 11\n",
      "7 13\n",
      "8 15\n",
      "9 17\n",
      "10 19\n",
      "11 21\n",
      "12 23\n",
      "13 25\n",
      "14 27\n",
      "15 29\n",
      "16 31\n",
      "Total Even numners in the list: 15\n",
      "Total Odd numners in the list: 16\n"
     ]
    }
   ],
   "source": [
    "# Problem 2\n",
    "# Print how many even numbers and how many odd numbers there are in practice_list\n",
    "\n",
    "practice_list = list(range(1, 32))\n",
    "list_e=[]\n",
    "list_o=[]\n",
    "for i in practice_list:\n",
    "    if i%2==0:\n",
    "        list_e.append(i)\n",
    "    else:\n",
    "        list_o.append(i)\n",
    "        \n",
    "print(list_e)  \n",
    "print(list_o)    \n",
    "\n",
    "print(\"Following will display number of even number correspoinding to its counter value:\")    \n",
    "for count_e,even_count in enumerate(list_e,start=1):\n",
    "    print(count_e,even_count)\n",
    "print(\"Following will display number of Odd number correspoinding to its counter value:\")    \n",
    "for count_o,odd_count in enumerate(list_o,start=1):\n",
    "    print(count_o,odd_count)\n",
    "\n",
    "print(\"Total Even numners in the list:\",count_e)\n",
    "print(\"Total Odd numners in the list:\",count_o)"
   ]
  },
  {
   "cell_type": "markdown",
   "metadata": {},
   "source": [
    "In the next question, write a loop to print the following pattern:\n",
    "<br>1\n",
    "<br>1 2\n",
    "<br>1 2 3\n",
    "<br>1 2 3 4 5"
   ]
  },
  {
   "cell_type": "code",
   "execution_count": 89,
   "metadata": {
    "collapsed": false
   },
   "outputs": [
    {
     "name": "stdout",
     "output_type": "stream",
     "text": [
      "1\n",
      "12\n",
      "123\n",
      "1234\n",
      "12345\n"
     ]
    }
   ],
   "source": [
    "# Problem 3\n",
    "# Generate the pattern above\n",
    "for i in range(1,6):\n",
    "    for j in range(1,i):\n",
    "        print (j,end='')     \n",
    "    print(i,end='\\n')"
   ]
  },
  {
   "cell_type": "code",
   "execution_count": 90,
   "metadata": {
    "collapsed": false
   },
   "outputs": [
    {
     "name": "stdout",
     "output_type": "stream",
     "text": [
      "1\n",
      "12\n",
      "123\n",
      "1234\n",
      "12345\n",
      "123456\n",
      "1234567\n",
      "12345678\n",
      "123456789\n"
     ]
    }
   ],
   "source": [
    "# Problem 2 bonus: can you change your code to make the pattern go up to 9?\n",
    "for i in range(1,10):\n",
    "    for j in range(1,i):\n",
    "        print (j,end='')     \n",
    "    print(i,end='\\n')"
   ]
  },
  {
   "cell_type": "markdown",
   "metadata": {},
   "source": [
    "## Functions\n",
    "\n",
    "Functions can be useful in situations where you find yourself typing the same code over and over again. In the next problem, we have 5 different lists containing a student's name and their grades in four of their classes. You'll need to print each student's name and their average grade. You could repeat the same code for all five students.... but see if you can do it with a function!"
   ]
  },
  {
   "cell_type": "code",
   "execution_count": 13,
   "metadata": {
    "collapsed": true
   },
   "outputs": [],
   "source": [
    "#Problem 2\n",
    "#For all five students, print \"[Student name] has an average score of [average grade]\""
   ]
  },
  {
   "cell_type": "code",
   "execution_count": 12,
   "metadata": {
    "collapsed": false
   },
   "outputs": [
    {
     "name": "stdout",
     "output_type": "stream",
     "text": [
      "Name: Erica --- Average Grade= 280.25\n",
      "Name: Jim --- Average Grade= 259.5\n",
      "Name: Alex --- Average Grade= 258.25\n",
      "Name: Lauren --- Average Grade= 270.25\n",
      "Name: Dana --- Average Grade= 259.5\n"
     ]
    }
   ],
   "source": [
    "# Don't change this block of code\n",
    "student_1 = ['Erica', 97, 95, 69, 77]\n",
    "student_2 = ['Jim', 70, 89, 83, 70]\n",
    "student_3 = ['Alex', 69, 86, 87, 65]\n",
    "student_4 = ['Lauren', 81, 86, 87, 65]\n",
    "student_5 = ['Dana', 84, 74, 84, 70]\n",
    "\n",
    "#print(student_1[0],average=a\n",
    "def student(name,m1,m2,m3,m4):\n",
    "    average_grade=m1+m2+m3+m4/4\n",
    "    print('Name: {} --- Average Grade= {}'.format(name,average_grade))\n",
    "    \n",
    "\n",
    "student('Erica', 97, 95, 69, 77)\n",
    "student('Jim', 70, 89, 83, 70)\n",
    "student('Alex', 69, 86, 87, 65)\n",
    "student('Lauren', 81, 86, 87, 65)\n",
    "student('Dana', 84, 74, 84, 70)\n"
   ]
  },
  {
   "cell_type": "markdown",
   "metadata": {},
   "source": [
    "Let's try a function to check if a year is a leap year.\n",
    "\n",
    "In the Gregorian calendar, three conditions are used to identify leap years:\n",
    "* The year can be evenly divided by 4, is a leap year, unless:\n",
    "* The year can be evenly divided by 100, it is NOT a leap year, unless:\n",
    "* The year is also evenly divisible by 400. Then it is a leap year.\n",
    "\n",
    "This means that in the Gregorian calendar, the years 2000 and 2400 are leap years, while 1800, 1900, 2100, 2200, 2300 and 2500 are NOT leap years. In the next problem, you'll write a function that determines whether a given year is a leap year.\n"
   ]
  },
  {
   "cell_type": "code",
   "execution_count": 5,
   "metadata": {
    "collapsed": false
   },
   "outputs": [
    {
     "ename": "UnboundLocalError",
     "evalue": "local variable 'b' referenced before assignment",
     "output_type": "error",
     "traceback": [
      "\u001b[0;31m---------------------------------------------------------------------------\u001b[0m",
      "\u001b[0;31mUnboundLocalError\u001b[0m                         Traceback (most recent call last)",
      "\u001b[0;32m<ipython-input-5-49d84a4a080c>\u001b[0m in \u001b[0;36m<module>\u001b[0;34m()\u001b[0m\n\u001b[1;32m     17\u001b[0m \u001b[0;34m\u001b[0m\u001b[0m\n\u001b[1;32m     18\u001b[0m \u001b[0;34m\u001b[0m\u001b[0m\n\u001b[0;32m---> 19\u001b[0;31m \u001b[0mgeor_leap_year\u001b[0m\u001b[0;34m(\u001b[0m\u001b[0;36m1900\u001b[0m\u001b[0;34m)\u001b[0m\u001b[0;34m\u001b[0m\u001b[0m\n\u001b[0m\u001b[1;32m     20\u001b[0m \u001b[0mgeor_leap_year\u001b[0m\u001b[0;34m(\u001b[0m\u001b[0;36m2000\u001b[0m\u001b[0;34m)\u001b[0m\u001b[0;34m\u001b[0m\u001b[0m\n\u001b[1;32m     21\u001b[0m \u001b[0mgeor_leap_year\u001b[0m\u001b[0;34m(\u001b[0m\u001b[0;36m1600\u001b[0m\u001b[0;34m)\u001b[0m\u001b[0;34m\u001b[0m\u001b[0m\n",
      "\u001b[0;32m<ipython-input-5-49d84a4a080c>\u001b[0m in \u001b[0;36mgeor_leap_year\u001b[0;34m(year)\u001b[0m\n\u001b[1;32m     11\u001b[0m         \u001b[0;32mreturn\u001b[0m\u001b[0;34m\u001b[0m\u001b[0m\n\u001b[1;32m     12\u001b[0m \u001b[0;34m\u001b[0m\u001b[0m\n\u001b[0;32m---> 13\u001b[0;31m     \u001b[0;32mif\u001b[0m \u001b[0ma\u001b[0m\u001b[0;34m==\u001b[0m\u001b[0mb\u001b[0m\u001b[0;34m:\u001b[0m\u001b[0;34m\u001b[0m\u001b[0m\n\u001b[0m\u001b[1;32m     14\u001b[0m         \u001b[0mprint\u001b[0m\u001b[0;34m(\u001b[0m\u001b[0;34m\"{} is a not leap year\"\u001b[0m\u001b[0;34m.\u001b[0m\u001b[0mformat\u001b[0m\u001b[0;34m(\u001b[0m\u001b[0myear\u001b[0m\u001b[0;34m)\u001b[0m\u001b[0;34m)\u001b[0m\u001b[0;34m\u001b[0m\u001b[0m\n\u001b[1;32m     15\u001b[0m     \u001b[0;32melif\u001b[0m \u001b[0mc\u001b[0m\u001b[0;34m==\u001b[0m\u001b[0mb\u001b[0m\u001b[0;34m:\u001b[0m\u001b[0;34m\u001b[0m\u001b[0m\n",
      "\u001b[0;31mUnboundLocalError\u001b[0m: local variable 'b' referenced before assignment"
     ]
    }
   ],
   "source": [
    "# Write a function that checks if a year is a leap year. \n",
    "# Find out if 1972, 1982, 1988, 1994, and 2000 were leap years.\n",
    "a=''\n",
    "b=''\n",
    "c=''\n",
    "def geor_leap_year(year):\n",
    "    if year%100==0:\n",
    "        a=False\n",
    "    elif year%400==0:\n",
    "        b=True\n",
    "    elif year%4==0:\n",
    "        c=True\n",
    "    else:\n",
    "        return\n",
    "        \n",
    "    if a==b:\n",
    "        print(\"{} is a not leap year\".format(year))\n",
    "    elif c==b:\n",
    "        print(\"{} is a leap year\".format(year))\n",
    "\n",
    "        \n",
    "geor_leap_year(1900)\n",
    "geor_leap_year(2000)\n",
    "geor_leap_year(1600)\n",
    "geor_leap_year(1988)\n",
    "geor_leap_year(1994)\n",
    "geor_leap_year(2400)\n"
   ]
  },
  {
   "cell_type": "markdown",
   "metadata": {},
   "source": [
    "If you got your function to work and asked a friend (or Google) if your answers were correct, good news! Your function and your knowledge of loops are both about to come in handy."
   ]
  },
  {
   "cell_type": "code",
   "execution_count": 12,
   "metadata": {
    "collapsed": false
   },
   "outputs": [
    {
     "name": "stdout",
     "output_type": "stream",
     "text": [
      "[1900, 1904, 1908, 1912, 1916, 1920, 1924, 1928, 1932, 1936, 1940, 1944, 1948, 1952, 1956, 1960, 1964, 1968, 1972, 1976, 1980, 1984, 1988, 1992, 1996, 2000, 2004, 2008, 2012, 2016, 2020]\n",
      "2020\n"
     ]
    }
   ],
   "source": [
    "# Make a list called leap_years that contains every leap year from 1900 to 2020\n",
    "\n",
    "start_year=1900\n",
    "end_year=2020\n",
    "leap_years=[]\n",
    "for i in range(start_year,end_year+1):\n",
    "    if i%4==0:\n",
    "        leap_years.append(i)\n",
    "print(leap_years)"
   ]
  },
  {
   "cell_type": "markdown",
   "metadata": {},
   "source": [
    "## Classes"
   ]
  }
 ],
 "metadata": {
  "anaconda-cloud": {},
  "kernelspec": {
   "display_name": "Python [default]",
   "language": "python",
   "name": "python3"
  },
  "language_info": {
   "codemirror_mode": {
    "name": "ipython",
    "version": 3
   },
   "file_extension": ".py",
   "mimetype": "text/x-python",
   "name": "python",
   "nbconvert_exporter": "python",
   "pygments_lexer": "ipython3",
   "version": "3.5.2"
  }
 },
 "nbformat": 4,
 "nbformat_minor": 4
}
