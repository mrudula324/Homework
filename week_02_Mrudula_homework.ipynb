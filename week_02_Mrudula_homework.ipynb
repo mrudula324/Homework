{
 "cells": [
  {
   "cell_type": "markdown",
   "metadata": {},
   "source": [
    "### Homework Week 02\n",
    "#### Loops, Functions and Classes\n",
    "1. Do this homework **in order**. \n",
    "2. Be sure to have a solid understanding of Functions before working with Classes. "
   ]
  },
  {
   "cell_type": "markdown",
   "metadata": {},
   "source": [
    "1. Iterate through `integers_list` and `print` values that are multiples of 7."
   ]
  },
  {
   "cell_type": "code",
   "execution_count": 72,
   "metadata": {
    "collapsed": false
   },
   "outputs": [
    {
     "name": "stdout",
     "output_type": "stream",
     "text": [
      "Random integer:  177\n",
      "Multiples of 7 from '0 to 177' are:\n",
      "0\n",
      "7\n",
      "14\n",
      "21\n",
      "28\n",
      "35\n",
      "42\n",
      "49\n",
      "56\n",
      "63\n",
      "70\n",
      "77\n",
      "84\n",
      "91\n",
      "98\n",
      "105\n",
      "112\n",
      "119\n",
      "126\n",
      "133\n",
      "140\n",
      "147\n",
      "154\n",
      "161\n",
      "168\n",
      "175\n"
     ]
    }
   ],
   "source": [
    "import random\n",
    "integers_list=(random.randint(0,1000))\n",
    "print(\"Random integer: \",integers_list)\n",
    "print (\"Multiples of 7 from '0 to {integers_list}' are:\".format(integers_list=integers_list))\n",
    "for number in range(0,integers_list):\n",
    "    if (number%7==0):\n",
    "        print(number)"
   ]
  },
  {
   "cell_type": "markdown",
   "metadata": {},
   "source": [
    "2. Create `list` of 5 colors as `strings` which are all lowercase. \n",
    "Iterate through the `list` and capitalize each color. \n",
    "You should modify the `list` in place. "
   ]
  },
  {
   "cell_type": "code",
   "execution_count": 73,
   "metadata": {
    "collapsed": false
   },
   "outputs": [
    {
     "name": "stdout",
     "output_type": "stream",
     "text": [
      "Red\n",
      "Blue\n",
      "Yellow\n",
      "Orange\n",
      "Purple\n"
     ]
    }
   ],
   "source": [
    "colors_list=[\"red\",\"blue\",\"yellow\",\"orange\",\"purple\"]\n",
    "for color in colors_list:\n",
    "    print(color.title())"
   ]
  },
  {
   "cell_type": "markdown",
   "metadata": {},
   "source": [
    "3. Loop through the string and eliminate all the asterisks."
   ]
  },
  {
   "cell_type": "code",
   "execution_count": 74,
   "metadata": {
    "collapsed": false
   },
   "outputs": [
    {
     "name": "stdout",
     "output_type": "stream",
     "text": [
      "My computer has gone crazy and added extra symbols.\n"
     ]
    }
   ],
   "source": [
    "asterisk = 'My *compu*ter has go*ne craz***y an*d add*ed extra *symbols.*'\n",
    "\n",
    "for i in range(len(asterisk)):\n",
    "        asterisk=asterisk.replace(\"*\",\"\")\n",
    "print(asterisk)"
   ]
  },
  {
   "cell_type": "markdown",
   "metadata": {},
   "source": [
    "4. Write a `while` loop that increments `counter` until it reaches 7."
   ]
  },
  {
   "cell_type": "code",
   "execution_count": 75,
   "metadata": {
    "collapsed": false
   },
   "outputs": [
    {
     "name": "stdout",
     "output_type": "stream",
     "text": [
      "1\n",
      "2\n",
      "3\n",
      "4\n",
      "5\n",
      "6\n",
      "7\n"
     ]
    }
   ],
   "source": [
    "counter = 0\n",
    "while (counter<7):\n",
    "    counter +=1\n",
    "    print (counter)"
   ]
  },
  {
   "cell_type": "markdown",
   "metadata": {},
   "source": [
    "5. Loop over `double_trouble` and eliminate any 'mosquito'."
   ]
  },
  {
   "cell_type": "code",
   "execution_count": 110,
   "metadata": {
    "collapsed": false
   },
   "outputs": [
    {
     "name": "stdout",
     "output_type": "stream",
     "text": [
      "['cat', 'dog', ['mouse', 'bat'], ['elephant', 'dog', 'whale', 'lion', 32], 'bird', []]\n"
     ]
    }
   ],
   "source": [
    "double_trouble = ['cat', 'dog',\"mosquito\", ['mouse','mosquito','bat','mosquito'],['elephant','dog','whale','lion',32,'mosquito'],'bird',[],'mosquitoe']\n",
    "x=[]\n",
    "for e in double_trouble:\n",
    "    if type(e)!=list:\n",
    "        if e!=\"mosquito\" and e!=\"mosquitoe\":\n",
    "          x.append(e)\n",
    "    else:\n",
    "        temp=[]\n",
    "        for i in e:\n",
    "            if i!=\"mosquito\":\n",
    "                temp.append(i)\n",
    "        x.append(temp)\n",
    "print(x)"
   ]
  },
  {
   "cell_type": "markdown",
   "metadata": {},
   "source": [
    "6. Loop through the dictionary of phone numbers and correct the parentheses. "
   ]
  },
  {
   "cell_type": "code",
   "execution_count": 107,
   "metadata": {
    "collapsed": false
   },
   "outputs": [
    {
     "name": "stdout",
     "output_type": "stream",
     "text": [
      "Jerri:1-555-567-8910\n",
      "Jane:1-555-567-8910\n",
      "Jill:1-555-567-8910\n",
      "Jan:1-555-567-8910\n",
      "Jen:1-555-567-8910\n"
     ]
    }
   ],
   "source": [
    "phone_numbers = {'Jill':'1-)555(-567-8910',\n",
    "                'Jen':'1-)555(-567-8910',\n",
    "                'Jan':'1-)555(-567-8910',\n",
    "                'Jane':'1-)555(-567-8910',\n",
    "                'Jerri':'1-)555(-567-8910'}\n",
    "\n",
    "for key, value in phone_numbers.items():\n",
    "    new_phonenumbers=(phone_numbers.get(key,value).replace(\")\",\"\").replace(\"(\",\"\"))\n",
    "    print('{}:{}'.format(key,new_phonenumbers))\n"
   ]
  },
  {
   "cell_type": "markdown",
   "metadata": {},
   "source": [
    "7. Create a function that takes in two numbers.\n",
    "\n",
    "If the numbers are both even add them and `return` the result.\n",
    "\n",
    "If the numbers are odd, subtract the second number from the first and `return` the result.\n",
    "\n",
    "(Assume you'll always get integers)"
   ]
  },
  {
   "cell_type": "code",
   "execution_count": 84,
   "metadata": {
    "collapsed": false
   },
   "outputs": [
    {
     "name": "stdout",
     "output_type": "stream",
     "text": [
      "Both numbers are 'EVEN'\n",
      "Sum: 340\n"
     ]
    }
   ],
   "source": [
    "def test_num (num1,num2):\n",
    "    if (num1==0 and num2==0):\n",
    "        print(\"Both numbers are 'ZEROS'\")\n",
    "    elif(num1%2==0 and num2%2==0):\n",
    "        print(\"Both numbers are 'EVEN'\")\n",
    "        print(\"Sum:\",(num1+num2))\n",
    "    elif (num1%2!=0 and num2%2!=0):\n",
    "        print(\"Both numbers are 'ODD'\")\n",
    "        print(\"Difference:\",abs(num1-num2))\n",
    "    else:\n",
    "        print(\"One is 'EVEN' and the other is 'ODD'\")\n",
    "\n",
    "\n",
    "test_num(10,330)"
   ]
  },
  {
   "cell_type": "markdown",
   "metadata": {},
   "source": [
    "8. Create a function that takes in a `string` and removes all non-alphanumeric characters."
   ]
  },
  {
   "cell_type": "code",
   "execution_count": 85,
   "metadata": {
    "collapsed": false
   },
   "outputs": [
    {
     "name": "stdout",
     "output_type": "stream",
     "text": [
      "Maryis12twelveyearsold\n"
     ]
    }
   ],
   "source": [
    "def non_alpha(string):\n",
    "    new_string=\"\"\n",
    "    for i in string:\n",
    "        if i.isalnum():\n",
    "            new_string=new_string+i\n",
    "    print(new_string)   \n",
    "    \n",
    "non_alpha(\"Maryis1)2twelv*eyears&old.\")\n"
   ]
  },
  {
   "cell_type": "markdown",
   "metadata": {},
   "source": [
    "9. Create a function to convert Celsius to Farenheight and print the result. \n",
    "\n",
    "Bonus(Optional): Include the degree symbol in the output."
   ]
  },
  {
   "cell_type": "code",
   "execution_count": 86,
   "metadata": {
    "collapsed": false
   },
   "outputs": [
    {
     "name": "stdout",
     "output_type": "stream",
     "text": [
      "48°C  --- 118.4°F\n"
     ]
    }
   ],
   "source": [
    "def Cel_to_Far (Celsius):\n",
    "    Farenheight=(Celsius *9/5)+32\n",
    "    degree_sign = u\"\\N{DEGREE SIGN}\"\n",
    "    print (\"{Celsius}{degree_sign}C  --- {Farenheight}{degree_sign}F\".format(Celsius=Celsius,Farenheight=Farenheight,degree_sign=degree_sign))\n",
    "\n",
    "Cel_to_Far(48)"
   ]
  },
  {
   "cell_type": "markdown",
   "metadata": {},
   "source": [
    "10. Create a function that prints the fibonacci sequence from 0 to 25. "
   ]
  },
  {
   "cell_type": "code",
   "execution_count": 86,
   "metadata": {
    "collapsed": false
   },
   "outputs": [
    {
     "name": "stdout",
     "output_type": "stream",
     "text": [
      "0\n",
      "1\n",
      "1\n",
      "2\n",
      "3\n",
      "5\n",
      "8\n",
      "13\n",
      "21\n",
      "34\n",
      "55\n",
      "89\n"
     ]
    }
   ],
   "source": [
    "def fibonacci_upto_number (number):\n",
    "    num1=0\n",
    "    num2=1\n",
    "    print(num1)\n",
    "    for num in range(number):\n",
    "        temp=num1+num2\n",
    "        if num2<number:\n",
    "            print(num2)\n",
    "            num1=num2\n",
    "            num2=temp\n",
    "    \n",
    "fibonacci_upto_number(125)"
   ]
  },
  {
   "cell_type": "markdown",
   "metadata": {},
   "source": [
    "11. Create two functions. One function that accepts args `a` and `b` and returns `a + b`. \n",
    "\n",
    "Create a second function that accepts the first function as the 3rd argument as well as a and b.\n"
   ]
  },
  {
   "cell_type": "code",
   "execution_count": 40,
   "metadata": {
    "collapsed": false
   },
   "outputs": [
    {
     "name": "stdout",
     "output_type": "stream",
     "text": [
      "Sum of two numbers: 6150\n"
     ]
    }
   ],
   "source": [
    "# you do the first function\n",
    "\n",
    "# second function\n",
    "# Here's some starter code to avoid confusion.\n",
    "# Functions can be passed around like any other object.\n",
    "\n",
    "def sum_two_numbers (a,b):\n",
    "    total=a+b\n",
    "    print(\"Sum of two numbers:\", total)\n",
    "\n",
    "def sum_three_numbers(a,b,sum_two_numbers):\n",
    "    pass\n",
    "\n",
    "\n",
    "sum_two_numbers(5400,750)"
   ]
  },
  {
   "cell_type": "markdown",
   "metadata": {},
   "source": [
    "12. Create a function that prints prime number from 0 to 100. "
   ]
  },
  {
   "cell_type": "code",
   "execution_count": 87,
   "metadata": {
    "collapsed": false
   },
   "outputs": [
    {
     "name": "stdout",
     "output_type": "stream",
     "text": [
      "2\n",
      "3\n",
      "5\n",
      "7\n",
      "11\n",
      "13\n",
      "17\n",
      "19\n",
      "23\n",
      "29\n",
      "31\n",
      "37\n",
      "41\n",
      "43\n",
      "47\n",
      "53\n",
      "59\n",
      "61\n",
      "67\n",
      "71\n",
      "73\n",
      "79\n",
      "83\n",
      "89\n",
      "97\n"
     ]
    }
   ],
   "source": [
    "def prime_num (begining,ending):\n",
    "    for num in range (begining,ending):\n",
    "        if num>1: # 1 is neither prime not composite\n",
    "            for j in range(2,num):  \n",
    "                if (num%j==0):\n",
    "                    break\n",
    "            else:                 #for can have an else clause stated in python documentation.\n",
    "                print(num)\n",
    "\n",
    "prime_num(1,100)"
   ]
  },
  {
   "cell_type": "markdown",
   "metadata": {},
   "source": [
    "13. Now's your chance to show off. Create a function that does something that has not already been done in the homework. Get creative. "
   ]
  },
  {
   "cell_type": "code",
   "execution_count": 88,
   "metadata": {
    "collapsed": false
   },
   "outputs": [
    {
     "name": "stdout",
     "output_type": "stream",
     "text": [
      "5 * 1 = 5\n",
      "5 * 2 = 10\n",
      "5 * 3 = 15\n",
      "5 * 4 = 20\n",
      "5 * 5 = 25\n",
      "5 * 6 = 30\n",
      "5 * 7 = 35\n",
      "5 * 8 = 40\n",
      "5 * 9 = 45\n",
      "5 * 10 = 50\n"
     ]
    }
   ],
   "source": [
    "def multiplication_table(number):\n",
    "    start=1\n",
    "    end=10\n",
    "    for i in range(start,end+1):\n",
    "        value=number*i\n",
    "        print(\"{number} * {i} = {value}\".format(number=number,i=i,value=value))\n",
    "        \n",
    "multiplication_table(5)"
   ]
  },
  {
   "cell_type": "markdown",
   "metadata": {},
   "source": [
    "14. Add an attribute called `age` to the `__init__` method of the `Person` class.\n",
    "\n",
    "Create an instance of `Person()` and print the `age`."
   ]
  },
  {
   "cell_type": "code",
   "execution_count": 89,
   "metadata": {
    "collapsed": false
   },
   "outputs": [],
   "source": [
    "class Person():\n",
    "\n",
    "    def __init__(self, name, occupation, country,age):\n",
    "        self.name = name\n",
    "        self.occupation = occupation\n",
    "        self.country = country\n",
    "        self.age=age"
   ]
  },
  {
   "cell_type": "code",
   "execution_count": 90,
   "metadata": {
    "collapsed": false
   },
   "outputs": [
    {
     "name": "stdout",
     "output_type": "stream",
     "text": [
      "56\n"
     ]
    }
   ],
   "source": [
    "female= Person(\"Mary\",\"Teacher\",\"USA\",56)\n",
    "\n",
    "print(female.age)"
   ]
  },
  {
   "cell_type": "markdown",
   "metadata": {},
   "source": [
    "15. Creat an instance of the class `Candy`. \n",
    "\n",
    "Add an attribute called `cost` on your instance. (Don't modify the class starter code.)\n",
    "\n",
    "Print the instance's `cost` attribute.\n",
    "\n",
    "Bonus(optional): Add a function of your choice to the instance. "
   ]
  },
  {
   "cell_type": "code",
   "execution_count": 91,
   "metadata": {
    "collapsed": false
   },
   "outputs": [
    {
     "data": {
      "text/plain": [
       "78"
      ]
     },
     "execution_count": 91,
     "metadata": {},
     "output_type": "execute_result"
    }
   ],
   "source": [
    "class Candy():\n",
    "    \n",
    "    def __init__(self, kind='chocolate', brand= 'Nestle', caramel = False):\n",
    "        self.kind = kind\n",
    "        self.brand = brand\n",
    "        self.caramel = caramel\n",
    "        \n",
    "    def flavors():\n",
    "        print(\"There are Chocolate,Orange,Mint,Strawberry flavours\")\n",
    "        \n",
    "candy1=Candy(\"vanila\",\"Hershey\",False)\n",
    "candy1.cost=78\n",
    "candy1.cost"
   ]
  },
  {
   "cell_type": "code",
   "execution_count": 92,
   "metadata": {
    "collapsed": false
   },
   "outputs": [
    {
     "name": "stdout",
     "output_type": "stream",
     "text": [
      "There are Chocolate,Orange,Mint,Strawberry flavours\n"
     ]
    }
   ],
   "source": [
    "Candy.flavors()"
   ]
  },
  {
   "cell_type": "markdown",
   "metadata": {},
   "source": [
    "16. Add an instance method to our class `Greet` that prints a greeting including `greeting` and the `name`. \n",
    "\n",
    "Example:\n",
    "\n",
    "`jen = Greet()`\n",
    "\n",
    "`jen.greet_method()` returns `\"Hello Jennifer\"`\n"
   ]
  },
  {
   "cell_type": "code",
   "execution_count": 93,
   "metadata": {
    "collapsed": false
   },
   "outputs": [
    {
     "name": "stdout",
     "output_type": "stream",
     "text": [
      "Hello Jennifer\n"
     ]
    }
   ],
   "source": [
    "class Greet():\n",
    "    \n",
    "    def __init__(self, name='Jennifer', language='english', greeting=\"Hello\"):\n",
    "        \n",
    "        self.language = language\n",
    "        self.greeting = greeting\n",
    "        self.name = name\n",
    "        \n",
    "    def greet_method(self):\n",
    "        print(\"Hello\", self.name)\n",
    "        \n",
    "jen = Greet()\n",
    "jen.greet_method()"
   ]
  },
  {
   "cell_type": "markdown",
   "metadata": {},
   "source": [
    "17. Add a line to the follwing code that will increment `employee_count` by 1 for **all** instances of `Employee`.\n",
    "\n",
    "The code should run each time an new instance of`Employee` is created. \n",
    "\n",
    "Hint: You don't need methods. Just a single expression will work. And it does NOT inlcude the word `self`. "
   ]
  },
  {
   "cell_type": "code",
   "execution_count": 94,
   "metadata": {
    "collapsed": false
   },
   "outputs": [
    {
     "name": "stdout",
     "output_type": "stream",
     "text": [
      "1\n",
      "2\n"
     ]
    }
   ],
   "source": [
    "class Employee():\n",
    "    \n",
    "    # class variables. Applies to all instances of this class during creation.\n",
    "    yearly_bonus = 1.01 # not used anywhere in this example\n",
    "    \n",
    "    employee_count = 0 # This variable will change for all instances of the class.\n",
    "    \n",
    "       \n",
    "    def __init__(self,name, age, base_pay): # creates an instance of our object with unique attributes\n",
    "        \n",
    "        self.name = name\n",
    "        self.age = age\n",
    "        self.base_pay = base_pay\n",
    "        Employee.employee_count+=1\n",
    "\n",
    "        \n",
    "        # your code here inside the __init__ method. \n",
    "        \n",
    "emp1 = Employee('Matt', 32,40000)\n",
    "print(emp1.employee_count) # should be 1 if the __init__ method is working properly. \n",
    "\n",
    "emp2 = emp1 = Employee('Joe', 22,50000) # should be 2 if the __init__ method is working properly. \n",
    "print(emp2.employee_count)"
   ]
  },
  {
   "cell_type": "markdown",
   "metadata": {},
   "source": [
    "18 . Add a `static` method of your choice to the class below. \n",
    "\n",
    "Instaiate an object and call your method. \n",
    "\n",
    "What is a static method anyway? \n"
   ]
  },
  {
   "cell_type": "code",
   "execution_count": 95,
   "metadata": {
    "collapsed": false
   },
   "outputs": [
    {
     "name": "stdout",
     "output_type": "stream",
     "text": [
      "Meryl Streep:  This is my line...\n",
      "I talk English.\n"
     ]
    }
   ],
   "source": [
    "class Actress():\n",
    "    def __init__(self, name = 'Meryl Streep'):\n",
    "        self.name = name\n",
    "        \n",
    "    def act(self,line):\n",
    "        print('{}:  {}'.format(self.name,line))\n",
    "   \n",
    "    @staticmethod\n",
    "    def static_method(language):\n",
    "        print(\"I talk\",language)\n",
    "     \n",
    "    \n",
    "meryl = Actress()\n",
    "meryl.act('This is my line...')\n",
    "\n",
    "Actress.static_method(\"English.\")\n",
    "\n",
    "#Static method is one of the class types, they act like regular funcation but are related to the class. It can\n",
    "#accept any number of variables. Self and clr are not required to access elements."
   ]
  },
  {
   "cell_type": "markdown",
   "metadata": {},
   "source": [
    "19. Create a `class` called Car that accepts 3 attributes (make, model and year). \n",
    "\n",
    "In the `__init__` method give your instance those three attributes. \n",
    "\n",
    "Instantiate (create) an object that is your dream car. \n",
    "\n",
    "Print the make of your dream car using the object attributes. \n",
    "\n",
    "Then call the dir() method on your new object. (See your attrs are now included!)"
   ]
  },
  {
   "cell_type": "code",
   "execution_count": 96,
   "metadata": {
    "collapsed": false
   },
   "outputs": [
    {
     "data": {
      "text/plain": [
       "['__class__',\n",
       " '__delattr__',\n",
       " '__dict__',\n",
       " '__dir__',\n",
       " '__doc__',\n",
       " '__eq__',\n",
       " '__format__',\n",
       " '__ge__',\n",
       " '__getattribute__',\n",
       " '__gt__',\n",
       " '__hash__',\n",
       " '__init__',\n",
       " '__le__',\n",
       " '__lt__',\n",
       " '__module__',\n",
       " '__ne__',\n",
       " '__new__',\n",
       " '__reduce__',\n",
       " '__reduce_ex__',\n",
       " '__repr__',\n",
       " '__setattr__',\n",
       " '__sizeof__',\n",
       " '__str__',\n",
       " '__subclasshook__',\n",
       " '__weakref__',\n",
       " 'make',\n",
       " 'model',\n",
       " 'year']"
      ]
     },
     "execution_count": 96,
     "metadata": {},
     "output_type": "execute_result"
    }
   ],
   "source": [
    "class Car:\n",
    "    def __init__(self,make,model,year):\n",
    "        self.make=make\n",
    "        self.model=model\n",
    "        self.year=year\n",
    "\n",
    "dream_car=Car(\"Tesla\",\"Sedan\",2021)\n",
    "\n",
    "dream_car.make\n",
    "\n",
    "dir(dream_car)"
   ]
  },
  {
   "cell_type": "markdown",
   "metadata": {},
   "source": [
    "20. Create a class called `Dice` that accepts a single argument called `number_of_dice`. \n",
    "\n",
    "Create an instance method called `roll`. \n",
    "\n",
    "`roll` should randomly pick a number for each die when called and print the results as a list. \n",
    "\n",
    "Create an instance of `Dice`. Then call `roll()` on your instance.\n",
    "\n",
    "Hint: Inside your class create an empty list called `dice`."
   ]
  },
  {
   "cell_type": "code",
   "execution_count": 109,
   "metadata": {
    "collapsed": false
   },
   "outputs": [
    {
     "data": {
      "text/plain": [
       "[1, 1, 2, 1, 2, 1]"
      ]
     },
     "execution_count": 109,
     "metadata": {},
     "output_type": "execute_result"
    }
   ],
   "source": [
    "from random import randrange\n",
    "\n",
    "class Dice:\n",
    "       \n",
    "    dice=[]\n",
    "\n",
    "    def __init__(self,number_of_dice):\n",
    "        self.number_of_dice=number_of_dice\n",
    "    \n",
    "    def roll(self):\n",
    "        for i in range(1,self.number_of_dice+1):\n",
    "            Dice.dice.append(randrange(1,7))\n",
    "        return Dice.dice\n",
    "       \n",
    "\n",
    "game1=Dice(6)\n",
    "game1.roll()"
   ]
  },
  {
   "cell_type": "code",
   "execution_count": 98,
   "metadata": {
    "collapsed": false
   },
   "outputs": [
    {
     "data": {
      "text/plain": [
       "[1, 2, 6, 5, 1, 3]"
      ]
     },
     "execution_count": 98,
     "metadata": {},
     "output_type": "execute_result"
    }
   ],
   "source": [
    "Dice.dice"
   ]
  },
  {
   "cell_type": "markdown",
   "metadata": {},
   "source": [
    "Bonus(optional):\n",
    "\n",
    "0. Create a class of your choice.\n",
    "1. Give it instance variables and class variables. \n",
    "2. Give it a classmethod. \n",
    "3. Give it a regular method (instance method).\n",
    "4. Give it a static method. \n",
    "\n",
    "Show how each works by printing an example. "
   ]
  },
  {
   "cell_type": "code",
   "execution_count": 99,
   "metadata": {
    "collapsed": false
   },
   "outputs": [],
   "source": [
    "class Townhouses:\n",
    "    \n",
    "    state=\"Missouri\"\n",
    "    \n",
    "    def __init__(self,address,city,zipcode,beds,baths,year_built):\n",
    "        self.address=address\n",
    "        self.city=city\n",
    "        self.zipcode=zipcode\n",
    "        self.beds=beds\n",
    "        self.baths=baths\n",
    "        self.year_built=year_built\n",
    "        \n",
    "    @classmethod\n",
    "    def cost_house(clr,address,city,zipcode,interest,price):\n",
    "        value=price*interest\n",
    "        return (\"{address} ,{city}, {zipcode} interest is {value}\".format(address=address,city=city,zipcode=zipcode,value=value))\n",
    "            \n",
    "        \n",
    "        \n",
    "        \n",
    "    @staticmethod\n",
    "    def zip_house_check (zipcode):\n",
    "        if zipcode==64043:\n",
    "            print(\"Town Houses are in Ofallon\") \n",
    "        elif zipcode==45343:\n",
    "            return (\"Town Houses are in Stlouis\")\n",
    "        else:\n",
    "            return \"No Town Homes in the area\"\n",
    "        \n",
    "\n",
    "townhouse1=Townhouses(\"345 Linda drive,apt=1\",\"stlouis\",63043,2,2,1980)\n",
    "\n",
    "townhouse2=Townhouses(\"5233 sams drive\",\"stlouis\",45353,3,4,1999)\n",
    "\n",
    "townhouse3=Townhouses(\"121 N ave\",\"stlouis\",63043,4,3,2021)"
   ]
  },
  {
   "cell_type": "code",
   "execution_count": 100,
   "metadata": {
    "collapsed": false
   },
   "outputs": [
    {
     "data": {
      "text/plain": [
       "1999"
      ]
     },
     "execution_count": 100,
     "metadata": {},
     "output_type": "execute_result"
    }
   ],
   "source": [
    "townhouse2.year_built #accessing instance vairables"
   ]
  },
  {
   "cell_type": "code",
   "execution_count": 101,
   "metadata": {
    "collapsed": false
   },
   "outputs": [
    {
     "data": {
      "text/plain": [
       "'345 Linda drive,apt=1'"
      ]
     },
     "execution_count": 101,
     "metadata": {},
     "output_type": "execute_result"
    }
   ],
   "source": [
    "townhouse1.address #accessing instance vairables"
   ]
  },
  {
   "cell_type": "code",
   "execution_count": 102,
   "metadata": {
    "collapsed": false
   },
   "outputs": [
    {
     "name": "stdout",
     "output_type": "stream",
     "text": [
      "Town Houses are in Ofallon\n"
     ]
    }
   ],
   "source": [
    "Townhouses.zip_house_check(64043) #accessing data from static method"
   ]
  },
  {
   "cell_type": "code",
   "execution_count": 103,
   "metadata": {
    "collapsed": false
   },
   "outputs": [
    {
     "data": {
      "text/plain": [
       "'Missouri'"
      ]
     },
     "execution_count": 103,
     "metadata": {},
     "output_type": "execute_result"
    }
   ],
   "source": [
    "Townhouses.state   #accessing class variables"
   ]
  },
  {
   "cell_type": "code",
   "execution_count": 104,
   "metadata": {
    "collapsed": false
   },
   "outputs": [
    {
     "data": {
      "text/plain": [
       "'345 Linda drive,apt=1 ,stlouis, 63043 interest is 117250.0'"
      ]
     },
     "execution_count": 104,
     "metadata": {},
     "output_type": "execute_result"
    }
   ],
   "source": [
    "Townhouses.cost_house(\"345 Linda drive,apt=1\",\"stlouis\",63043,0.5,234500)  #accessing classmethod"
   ]
  }
 ],
 "metadata": {
  "anaconda-cloud": {},
  "kernelspec": {
   "display_name": "Python [default]",
   "language": "python",
   "name": "python3"
  },
  "language_info": {
   "codemirror_mode": {
    "name": "ipython",
    "version": 3
   },
   "file_extension": ".py",
   "mimetype": "text/x-python",
   "name": "python",
   "nbconvert_exporter": "python",
   "pygments_lexer": "ipython3",
   "version": "3.5.2"
  }
 },
 "nbformat": 4,
 "nbformat_minor": 4
}
