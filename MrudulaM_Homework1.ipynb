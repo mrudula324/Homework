{
 "cells": [
  {
   "cell_type": "code",
   "execution_count": 83,
   "metadata": {
    "collapsed": false
   },
   "outputs": [],
   "source": [
    "#Homework:1"
   ]
  },
  {
   "cell_type": "code",
   "execution_count": 4,
   "metadata": {
    "collapsed": false
   },
   "outputs": [],
   "source": [
    "#. How can you get more information about a function or an object from inside a jupyter cell?"
   ]
  },
  {
   "cell_type": "code",
   "execution_count": 114,
   "metadata": {
    "collapsed": true
   },
   "outputs": [],
   "source": [
    "#Funcation help from the jupyter cell can be found using 2 ways:\n",
    "#1.press\"SHIFT + TAB\" inside the parantesis of the funcation.\n",
    "#2.type funcation name and question mark then run the jupyter cell."
   ]
  },
  {
   "cell_type": "code",
   "execution_count": 115,
   "metadata": {
    "collapsed": true
   },
   "outputs": [],
   "source": [
    "#2.How can you determine the data type of an object?"
   ]
  },
  {
   "cell_type": "code",
   "execution_count": 29,
   "metadata": {
    "collapsed": false
   },
   "outputs": [
    {
     "name": "stdout",
     "output_type": "stream",
     "text": [
      "<class 'str'>\n"
     ]
    }
   ],
   "source": [
    "#type(object_name) - gives the data type of the object which can be int, string , float, arrray and soon. Example:\n",
    "day=\"Sunday\"\n",
    "print(type(day))"
   ]
  },
  {
   "cell_type": "code",
   "execution_count": null,
   "metadata": {
    "collapsed": true
   },
   "outputs": [],
   "source": [
    "#3.Assign a variable named foo and give it a value of 'bar'. Oh, and what is assignment?"
   ]
  },
  {
   "cell_type": "code",
   "execution_count": 4,
   "metadata": {
    "collapsed": false
   },
   "outputs": [
    {
     "name": "stdout",
     "output_type": "stream",
     "text": [
      "value of foo: bar\n"
     ]
    }
   ],
   "source": [
    "foo=\"bar\"\n",
    "print(\"value of foo:\",foo)\n",
    "# \"\"\"We are creating a varibale named \"foo\" and we are assigining the value as \"bar\" to the variable \"foo\" by \n",
    "#using an assignment operator \"=\". When we run the variable \"foo\" the output will be \"bar\" as shown below\"\"\"."
   ]
  },
  {
   "cell_type": "code",
   "execution_count": 2,
   "metadata": {
    "collapsed": true
   },
   "outputs": [],
   "source": [
    "#4. What is a data structure in another language that is not built into python? Does python have a similar \n",
    "#data structure that may serve the same purpose?"
   ]
  },
  {
   "cell_type": "code",
   "execution_count": null,
   "metadata": {
    "collapsed": true
   },
   "outputs": [],
   "source": [
    "#\"Arrays\" data structure does not come as built in with python. Instead in python \"Lists\" are used for the same purpose.\n",
    "#Though arrays does not come as built in with python,\"NumPy\" library can be imported to work with arrays. "
   ]
  },
  {
   "cell_type": "code",
   "execution_count": null,
   "metadata": {
    "collapsed": true
   },
   "outputs": [],
   "source": [
    "#5.You have an assortment of items you will need to keep track of. What would be a good data structure \n",
    "#to keep them in? Provide an example."
   ]
  },
  {
   "cell_type": "code",
   "execution_count": 5,
   "metadata": {
    "collapsed": false
   },
   "outputs": [
    {
     "name": "stdout",
     "output_type": "stream",
     "text": [
      "[232, 'SM235', 'Ral', 3425, [43, 324, 2423]]\n"
     ]
    },
    {
     "data": {
      "text/plain": [
       "list"
      ]
     },
     "execution_count": 5,
     "metadata": {},
     "output_type": "execute_result"
    }
   ],
   "source": [
    "#List data type works with hetrogenous item types. A single List can consist of int, float, string data, list and soon.\n",
    "sys_num=[232,\"SM235\",\"Ral\",3425,[43,324,2423]]\n",
    "print(sys_num)\n",
    "type(sys_num)"
   ]
  },
  {
   "cell_type": "code",
   "execution_count": null,
   "metadata": {
    "collapsed": true
   },
   "outputs": [],
   "source": [
    "#6.You have an assortment of names and telephone numbers. What might be a good data structure to keep \n",
    "#them in? Show an example."
   ]
  },
  {
   "cell_type": "code",
   "execution_count": 1,
   "metadata": {
    "collapsed": false
   },
   "outputs": [
    {
     "name": "stdout",
     "output_type": "stream",
     "text": [
      "{'Sam': 34275832571, 'Mathew': 378472424253, 'Robert': 8393934434, 'Peter': 73758300848}\n",
      "dict_keys(['Sam', 'Mathew', 'Robert', 'Peter'])\n"
     ]
    },
    {
     "data": {
      "text/plain": [
       "dict_values([34275832571, 378472424253, 8393934434, 73758300848])"
      ]
     },
     "execution_count": 1,
     "metadata": {},
     "output_type": "execute_result"
    }
   ],
   "source": [
    "#Dictionary data type is used for key, value pairs such as names and telephone numbers. \n",
    "Name={\"Sam\":34275832571, \"Mathew\":378472424253, \"Peter\":73758300848, \"Robert\": 8393934434}\n",
    "print(Name)\n",
    "type(Name)\n",
    "print(Name.keys())\n",
    "Name.get(\"Peter\")\n",
    "Name.values()"
   ]
  },
  {
   "cell_type": "code",
   "execution_count": null,
   "metadata": {
    "collapsed": true
   },
   "outputs": [],
   "source": [
    "#7.You need to create a copy of an important list and alter the copy. Why is the following code a bad idea?"
   ]
  },
  {
   "cell_type": "code",
   "execution_count": 41,
   "metadata": {
    "collapsed": false
   },
   "outputs": [
    {
     "name": "stdout",
     "output_type": "stream",
     "text": [
      "[9, 2, 3]\n",
      "[9, 2, 3]\n",
      "4373920456\n",
      "4373920456\n"
     ]
    }
   ],
   "source": [
    "list1 = [1,2,3]\n",
    "list2 = list1\n",
    "list1[0]= 9\n",
    "print(list1)\n",
    "print(list2)\n",
    "print(id(list1))\n",
    "print(id(list2))\n",
    "\n",
    "#Line1: We created the \"list\" using elements 1,2,3\n",
    "#Line2: We are \"assigning\" the same elements of list 1 to list2\n",
    "#Line3: We are updating the list with index 0 to be 9.\n",
    "#Line4: Printing the values in the list1.\n",
    "\n",
    "#Lists are mutable in python which means elements in the list can be added, moved,deleted, appended whenever user \n",
    "#needs to. If you want the list that need not be changed we have to create a tuple instead of list. If we see the output\n",
    "#list1 and list2 are same with new updated values. So,it is a bad code idea.\n",
    "\n",
    "#\"id function\" which returns the same memory address tells that both list1 and list2 are same"
   ]
  },
  {
   "cell_type": "code",
   "execution_count": 42,
   "metadata": {
    "collapsed": true
   },
   "outputs": [],
   "source": [
    "#8. What is truthy and falsey? Provide a list example and a string example."
   ]
  },
  {
   "cell_type": "code",
   "execution_count": 28,
   "metadata": {
    "collapsed": false
   },
   "outputs": [
    {
     "name": "stdout",
     "output_type": "stream",
     "text": [
      "True\n",
      "False\n",
      "False\n",
      "True\n",
      "False\n",
      "hoho\n"
     ]
    }
   ],
   "source": [
    "#Truthy are values that always returns \"true\" after evaluating a operation or operand. Falsey are values that returns\n",
    "#false after evaluating a opertaion or operand.\n",
    "\n",
    "names= [\"sarah\",\"tara\",\"stephene\",\"mira\",986]\n",
    "print(\"sarah\" in names)   #returns true after checking list values for \"sarah\". Since it is present it reuturns true.\n",
    "print(\"Mishra\" in names)  #\"Mishra\" is not present in the list. so returns false. \n",
    "print(32 in names) #32 not in list\n",
    "print(986 in names) #986 present in list\n",
    "print(\"Sarah\" in names) #False as Sarah has capital S what does not match with s.\n",
    "\n",
    "#Also the question22 of the homework question is a example for this:\n",
    "some_list = ['fizz','buzz',1,{'key':'value'}]\n",
    "\n",
    "if not some_list:            \n",
    "    print('Hooray!')\n",
    "else:\n",
    "    print(\"hoho\")\n",
    "\n",
    "#Here the output for this example is \"Hoorray\". If is not checking with any other condition but the print is working.\n",
    "#This is becasue the if some_list here means \"if True:\" as list is present which tells its true. If we change the if\n",
    "#to not some_list with else statement the it converts to if False, hence the else part of the code works."
   ]
  },
  {
   "cell_type": "code",
   "execution_count": 81,
   "metadata": {
    "collapsed": false
   },
   "outputs": [],
   "source": [
    "#9.What is the difference between a dynamically typed and statically typed language?\n",
    "#Which one is python?\n",
    "#When is that a good thing?\n",
    "#When is that a bad thing?"
   ]
  },
  {
   "cell_type": "code",
   "execution_count": null,
   "metadata": {
    "collapsed": true
   },
   "outputs": [],
   "source": [
    "#Statically typed language is when the the interpretor check variable types at the compiling time rather than at \n",
    "#run time.Once declared the type of the varibale cannot be changed. \n",
    "\n",
    "#Python is a dynamically typed language. It means the python interpretor will check varaible types at the run time. \n",
    "#Also,type of vaiable can be changed any time in the program.\n",
    "\n",
    "#Bad things about Python being dyanmically typed is thatsyntax and type errors can be found at the run time \n",
    "#which makes debugging harder at the end the program.\n",
    "\n",
    "#Good things about Python being dynamically typed that abscence of compilation step makes the program to run faster.\n",
    "#Also, we dont need to create a variable before using them."
   ]
  },
  {
   "cell_type": "code",
   "execution_count": null,
   "metadata": {
    "collapsed": true
   },
   "outputs": [],
   "source": [
    "#10.Here is a link to the python built-in functions. Choose 2 and give an example of how to use them."
   ]
  },
  {
   "cell_type": "code",
   "execution_count": 122,
   "metadata": {
    "collapsed": false
   },
   "outputs": [
    {
     "data": {
      "text/plain": [
       "[(10, 'monday'),\n",
       " (11, 'tuesday'),\n",
       " (12, 'wednesday'),\n",
       " (13, 'thrusday'),\n",
       " (14, 'friday'),\n",
       " (15, 'saturday'),\n",
       " (16, 'sunday')]"
      ]
     },
     "execution_count": 122,
     "metadata": {},
     "output_type": "execute_result"
    }
   ],
   "source": [
    "#1.enumerate() - return a tuple. With input of iteratable (list/tuple) the enumerate funcation iterates over the \n",
    "#itertable by asssinging values. User can define the starting value of the iteration.\n",
    "week_days=[\"monday\",\"tuesday\",\"wednesday\",\"thrusday\",\"friday\",\"saturday\",\"sunday\"]\n",
    "list(enumerate(week_days,start=10))"
   ]
  },
  {
   "cell_type": "code",
   "execution_count": 123,
   "metadata": {
    "collapsed": false
   },
   "outputs": [
    {
     "data": {
      "text/plain": [
       "(50, 4)"
      ]
     },
     "execution_count": 123,
     "metadata": {},
     "output_type": "execute_result"
    }
   ],
   "source": [
    "10.#2.divmod(x,y) - this funcations returns a tuple that includes 2 values. First one is quotient basically obtained \n",
    "#by floor division of given number x and y. Second value is remiander of the division.\n",
    "divmod(254,5)"
   ]
  },
  {
   "cell_type": "code",
   "execution_count": null,
   "metadata": {
    "collapsed": true
   },
   "outputs": [],
   "source": [
    "#11.I need to know if an integer is odd or even. What operator might help me do that?"
   ]
  },
  {
   "cell_type": "code",
   "execution_count": 129,
   "metadata": {
    "collapsed": false
   },
   "outputs": [
    {
     "name": "stdout",
     "output_type": "stream",
     "text": [
      "Even Number\n",
      "Odd Number\n"
     ]
    }
   ],
   "source": [
    "#In order to know if an integer is odd or even I am using modulo operator\"%\" and comparision operator\"==\".\n",
    "\n",
    "def even_odd_function (number):\n",
    "    if number%2==0:\n",
    "        print (\"Even Number\")\n",
    "    else:\n",
    "        print(\"Odd Number\")\n",
    "    \n",
    "even_odd_function(56)\n",
    "even_odd_function(5677)"
   ]
  },
  {
   "cell_type": "code",
   "execution_count": null,
   "metadata": {
    "collapsed": true
   },
   "outputs": [],
   "source": [
    "#12.What is an operator?"
   ]
  },
  {
   "cell_type": "code",
   "execution_count": null,
   "metadata": {
    "collapsed": true
   },
   "outputs": [],
   "source": [
    "# Operators are special symbols in python that can carry on some operations on the vairables and values. \n",
    "#Operators can be arthimetic operators such as \"+, - ,%,//\", logical operators such as \"and,or,not\",\n",
    "#comparision operators such as \">, <,=,>=\", assignement operators\"=, *=, +=\". Example:From the even_odd function above we are\n",
    "#using a modulo operator and assignment operator."
   ]
  },
  {
   "cell_type": "code",
   "execution_count": null,
   "metadata": {
    "collapsed": true
   },
   "outputs": [],
   "source": [
    "#13.What is a data type in another language does not exist in python? Does python have a similar data type?"
   ]
  },
  {
   "cell_type": "code",
   "execution_count": null,
   "metadata": {
    "collapsed": true
   },
   "outputs": [],
   "source": [
    "#\"Date\" data type is not a part of python. \"datatime\" module need to be imported to work with date and date objects."
   ]
  },
  {
   "cell_type": "code",
   "execution_count": null,
   "metadata": {
    "collapsed": true
   },
   "outputs": [],
   "source": [
    "#14.What is a python expression? And what does it evalute to?"
   ]
  },
  {
   "cell_type": "code",
   "execution_count": null,
   "metadata": {
    "collapsed": true
   },
   "outputs": [],
   "source": [
    "#Python expression is a combination of values, operators,variables and function calls. Python interpretor evaluates the\n",
    "#expression in to a value."
   ]
  },
  {
   "cell_type": "code",
   "execution_count": 33,
   "metadata": {
    "collapsed": false
   },
   "outputs": [
    {
     "name": "stdout",
     "output_type": "stream",
     "text": [
      "True\n",
      "False\n",
      "True\n"
     ]
    }
   ],
   "source": [
    "#15.Provide an expression that evaluates which variable is greater. \n",
    "#(Hint: you can just test them and don't need to say which is greater)\n",
    "foo = 23\n",
    "bar = 48\n",
    "print(\"foo\" > \"bar\")\n",
    "\n",
    "a=\"Sam\"\n",
    "b=\"Cat\"\n",
    "c=\"cat\"\n",
    "print(a<b)\n",
    "print(b<c)\n",
    "#String sort based on the dictionary order."
   ]
  },
  {
   "cell_type": "code",
   "execution_count": 10,
   "metadata": {
    "collapsed": false
   },
   "outputs": [
    {
     "data": {
      "text/plain": [
       "True"
      ]
     },
     "execution_count": 10,
     "metadata": {},
     "output_type": "execute_result"
    }
   ],
   "source": [
    "\"foo\" > \"bar\""
   ]
  },
  {
   "cell_type": "code",
   "execution_count": 24,
   "metadata": {
    "collapsed": false
   },
   "outputs": [
    {
     "name": "stdout",
     "output_type": "stream",
     "text": [
      "odd\n",
      "even\n",
      "3\n",
      "even\n",
      "odd\n",
      "even\n",
      "odd\n",
      "even\n",
      "odd\n"
     ]
    }
   ],
   "source": [
    "#16.Provide an if statement (inside the provided for loop) that prints 'even' if the number is even, \n",
    "#'odd' if the number is odd and 'three' if the number is 3.\n",
    "\n",
    "my_list = [1,2,3,4,5,6,7,8,9]\n",
    "for i in my_list:\n",
    "    if i==3:\n",
    "        print(3)\n",
    "    elif i%2==0:\n",
    "        print (\"even\")\n",
    "    else:\n",
    "        print (\"odd\") "
   ]
  },
  {
   "cell_type": "code",
   "execution_count": null,
   "metadata": {
    "collapsed": true
   },
   "outputs": [],
   "source": [
    "#17. What is the equal operator? # comment it out And show an example of how it is used."
   ]
  },
  {
   "cell_type": "code",
   "execution_count": 25,
   "metadata": {
    "collapsed": false
   },
   "outputs": [
    {
     "data": {
      "text/plain": [
       "False"
      ]
     },
     "execution_count": 25,
     "metadata": {},
     "output_type": "execute_result"
    }
   ],
   "source": [
    "#Equal operator is one of the conditional operator in python. It checks whether the LHS and RHS of the equal sign \n",
    "#operator are same or not. If same is gives \"True\" if not \"False\" will be the output.\n",
    "a=\"apple\"\n",
    "b=\"ball\"\n",
    "a==b \n",
    "#output will be false as apple not equal to ball. Same works for numberic values. another example in code line 24."
   ]
  },
  {
   "cell_type": "code",
   "execution_count": null,
   "metadata": {
    "collapsed": true
   },
   "outputs": [],
   "source": [
    "#18. What is the less than equal to operator? And show an example of how it is used."
   ]
  },
  {
   "cell_type": "code",
   "execution_count": 28,
   "metadata": {
    "collapsed": false
   },
   "outputs": [
    {
     "data": {
      "text/plain": [
       "True"
      ]
     },
     "execution_count": 28,
     "metadata": {},
     "output_type": "execute_result"
    }
   ],
   "source": [
    "a=89\n",
    "b=89\n",
    "a<=b # we are checking if a is lessthan or equal to b. It reurns true if a is less than b or a is equal to b.\n",
    "\n"
   ]
  },
  {
   "cell_type": "code",
   "execution_count": null,
   "metadata": {
    "collapsed": true
   },
   "outputs": [],
   "source": [
    "#18.What is the modulo remainder operator? And show an example of how it is used."
   ]
  },
  {
   "cell_type": "code",
   "execution_count": 30,
   "metadata": {
    "collapsed": false
   },
   "outputs": [
    {
     "data": {
      "text/plain": [
       "7"
      ]
     },
     "execution_count": 30,
     "metadata": {},
     "output_type": "execute_result"
    }
   ],
   "source": [
    "#Modulo operator is used when we are looking for the result to be the remiander of the divison rather than quotient.\n",
    "x=457\n",
    "y=15\n",
    "x%y #result 7 will be the remiander after division fo 457 and 15. Another exapmple in line 24."
   ]
  },
  {
   "cell_type": "code",
   "execution_count": null,
   "metadata": {
    "collapsed": true
   },
   "outputs": [],
   "source": [
    "19. What is the floored division operator? And show an example of how it is used."
   ]
  },
  {
   "cell_type": "code",
   "execution_count": 31,
   "metadata": {
    "collapsed": false
   },
   "outputs": [
    {
     "data": {
      "text/plain": [
       "30"
      ]
     },
     "execution_count": 31,
     "metadata": {},
     "output_type": "execute_result"
    }
   ],
   "source": [
    "#Floor division rounds the result to the nearnest whole number.\n",
    "x=457\n",
    "y=15\n",
    "x//y #Actual output is 30.466 but we used floor division so it is rounded to nearest whole number 30."
   ]
  },
  {
   "cell_type": "code",
   "execution_count": 148,
   "metadata": {
    "collapsed": true
   },
   "outputs": [],
   "source": [
    "#20. Why is this assigment not a good idea? (Hint: focus on the word hex)\n",
    "#hex = 'some text value'"
   ]
  },
  {
   "cell_type": "code",
   "execution_count": 158,
   "metadata": {
    "collapsed": false
   },
   "outputs": [],
   "source": [
    "#Hex function converts an integer input into its correcponding hexadecimal string. Here in the assignment the input \n",
    "#value is a string hence this assignment is not a good idea."
   ]
  },
  {
   "cell_type": "code",
   "execution_count": 146,
   "metadata": {
    "collapsed": false
   },
   "outputs": [],
   "source": [
    "#21.Why does the following give an error? Show an example of how to fix it.\n",
    "2cars = ('Ferarri', 'Mustang')"
   ]
  },
  {
   "cell_type": "code",
   "execution_count": null,
   "metadata": {
    "collapsed": false
   },
   "outputs": [],
   "source": [
    "#This throws a \"syntax error\" as the varibale name should not start with the number."
   ]
  },
  {
   "cell_type": "code",
   "execution_count": 43,
   "metadata": {
    "collapsed": false
   },
   "outputs": [
    {
     "name": "stdout",
     "output_type": "stream",
     "text": [
      "Hooray!\n"
     ]
    }
   ],
   "source": [
    "#22. Why does this if statement evaluate to true? You will see this shortcut a lot and it can be confusing as to\n",
    "#what is going on.\n",
    "some_list = ['fizz','buzz',1,{'key':'value'}]\n",
    "\n",
    "if some_list:\n",
    "    print('Hooray!')\n",
    "\n",
    "#This code always evaluates to true. \n",
    "#If condition always gets the values from the some_list which makes the if true always."
   ]
  },
  {
   "cell_type": "code",
   "execution_count": null,
   "metadata": {
    "collapsed": true
   },
   "outputs": [],
   "source": [
    "#23. Write an expression that adds two numbers."
   ]
  },
  {
   "cell_type": "code",
   "execution_count": 40,
   "metadata": {
    "collapsed": false
   },
   "outputs": [
    {
     "name": "stdout",
     "output_type": "stream",
     "text": [
      "Value of x+y: 777\n"
     ]
    }
   ],
   "source": [
    "x=344\n",
    "y=433\n",
    "print(\"Value of x+y:\",x+y)"
   ]
  },
  {
   "cell_type": "code",
   "execution_count": null,
   "metadata": {
    "collapsed": true
   },
   "outputs": [],
   "source": [
    "#24.Write an expression that divides two numbers."
   ]
  },
  {
   "cell_type": "code",
   "execution_count": 44,
   "metadata": {
    "collapsed": false
   },
   "outputs": [
    {
     "name": "stdout",
     "output_type": "stream",
     "text": [
      "Value of x/y: 10.2\n"
     ]
    }
   ],
   "source": [
    "x=255\n",
    "y=25\n",
    "print(\"Value of x/y:\",x/y)"
   ]
  },
  {
   "cell_type": "code",
   "execution_count": null,
   "metadata": {
    "collapsed": true
   },
   "outputs": [],
   "source": [
    "#25.Write an expression that raises one number to the power of 3."
   ]
  },
  {
   "cell_type": "code",
   "execution_count": 45,
   "metadata": {
    "collapsed": false
   },
   "outputs": [
    {
     "name": "stdout",
     "output_type": "stream",
     "text": [
      "Value of y power 3: 125\n"
     ]
    }
   ],
   "source": [
    "y=5\n",
    "print(\"Value of y power 3:\",y**3)"
   ]
  },
  {
   "cell_type": "code",
   "execution_count": null,
   "metadata": {
    "collapsed": true
   },
   "outputs": [],
   "source": [
    "#26.You've been asked to do some semi-avanced mathematics and create a report. What module might you import to help make your job easier?\n",
    "#Import this module below. (Hint: It's part of the Python Standard Library)"
   ]
  },
  {
   "cell_type": "code",
   "execution_count": 46,
   "metadata": {
    "collapsed": true
   },
   "outputs": [],
   "source": [
    "#27. How can you change my_var form an int to a str?\n",
    "my_var = 42"
   ]
  },
  {
   "cell_type": "code",
   "execution_count": null,
   "metadata": {
    "collapsed": false
   },
   "outputs": [],
   "source": [
    "#\"Scipy\" library needs to be imported inorder to perform semi-advanced mathematics and to create a report.\n",
    "\n",
    "import scipy"
   ]
  },
  {
   "cell_type": "code",
   "execution_count": 47,
   "metadata": {
    "collapsed": false
   },
   "outputs": [
    {
     "data": {
      "text/plain": [
       "str"
      ]
     },
     "execution_count": 47,
     "metadata": {},
     "output_type": "execute_result"
    }
   ],
   "source": [
    "type(str(my_var))"
   ]
  },
  {
   "cell_type": "code",
   "execution_count": 47,
   "metadata": {
    "collapsed": true
   },
   "outputs": [],
   "source": [
    "#28. Slice some_string to only include the words lazy.\n",
    "some_string = \"The quick brown fox jumped over the lazy dog.\""
   ]
  },
  {
   "cell_type": "code",
   "execution_count": 48,
   "metadata": {
    "collapsed": false
   },
   "outputs": [
    {
     "data": {
      "text/plain": [
       "'lazy'"
      ]
     },
     "execution_count": 48,
     "metadata": {},
     "output_type": "execute_result"
    }
   ],
   "source": [
    "some_string[-9:-5]"
   ]
  },
  {
   "cell_type": "code",
   "execution_count": 131,
   "metadata": {
    "collapsed": true
   },
   "outputs": [],
   "source": [
    "#29.Assign a new variable sport to the 3rd element in the list.\n",
    "my_favorite_teams= ['Chiefs', 'Cardinals', 'Blues', 'Lakers','Manchester United', 'Couch Surfing']"
   ]
  },
  {
   "cell_type": "code",
   "execution_count": 54,
   "metadata": {
    "collapsed": false
   },
   "outputs": [
    {
     "data": {
      "text/plain": [
       "['Chiefs',\n",
       " 'Cardinals',\n",
       " 'Sport',\n",
       " 'Lakers',\n",
       " 'Manchester United',\n",
       " 'Couch Surfing']"
      ]
     },
     "execution_count": 54,
     "metadata": {},
     "output_type": "execute_result"
    }
   ],
   "source": [
    "my_favorite_teams[2]=\"Sport\"\n",
    "my_favorite_teams"
   ]
  },
  {
   "cell_type": "code",
   "execution_count": null,
   "metadata": {
    "collapsed": true
   },
   "outputs": [],
   "source": [
    "#Optional Questions\n",
    "#1.Write a function that takes in a number and doubles it."
   ]
  },
  {
   "cell_type": "code",
   "execution_count": 49,
   "metadata": {
    "collapsed": false
   },
   "outputs": [
    {
     "data": {
      "text/plain": [
       "225"
      ]
     },
     "execution_count": 49,
     "metadata": {},
     "output_type": "execute_result"
    }
   ],
   "source": [
    "def double_num (number):\n",
    "    d_num=number*number\n",
    "    return d_num\n",
    "\n",
    "double_num(15)"
   ]
  },
  {
   "cell_type": "code",
   "execution_count": 3,
   "metadata": {
    "collapsed": true
   },
   "outputs": [],
   "source": [
    "#2.What is the use case for the dir() method?"
   ]
  },
  {
   "cell_type": "code",
   "execution_count": 10,
   "metadata": {
    "collapsed": false
   },
   "outputs": [],
   "source": [
    "#This command returns the list of attributes and methods, including the built in functions associated \n",
    "#with the object we passed in. If no parameter is passed it returns list of names in the current local scope.\n",
    "#dir(object). Common use cases including checking whether the library/module has been imported or not. Also it gives \n",
    "#information on what all the operations can be performed on an object."
   ]
  },
  {
   "cell_type": "code",
   "execution_count": 50,
   "metadata": {
    "collapsed": true
   },
   "outputs": [],
   "source": [
    "#3.Reverse the following string using only slicing methods.\n",
    "irreversible = \"Can you reverse me?\""
   ]
  },
  {
   "cell_type": "code",
   "execution_count": 55,
   "metadata": {
    "collapsed": false
   },
   "outputs": [
    {
     "data": {
      "text/plain": [
       "'?em esrever uoy naC'"
      ]
     },
     "execution_count": 55,
     "metadata": {},
     "output_type": "execute_result"
    }
   ],
   "source": [
    "irreversible[::-1]"
   ]
  }
 ],
 "metadata": {
  "anaconda-cloud": {},
  "kernelspec": {
   "display_name": "Python [default]",
   "language": "python",
   "name": "python3"
  },
  "language_info": {
   "codemirror_mode": {
    "name": "ipython",
    "version": 3
   },
   "file_extension": ".py",
   "mimetype": "text/x-python",
   "name": "python",
   "nbconvert_exporter": "python",
   "pygments_lexer": "ipython3",
   "version": "3.5.2"
  }
 },
 "nbformat": 4,
 "nbformat_minor": 2
}
